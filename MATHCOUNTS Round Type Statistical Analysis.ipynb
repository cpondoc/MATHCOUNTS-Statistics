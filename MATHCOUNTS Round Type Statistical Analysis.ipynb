{
 "cells": [
  {
   "cell_type": "markdown",
   "metadata": {},
   "source": [
    "# MATHCOUNTS Round Type Statistical Analysis"
   ]
  },
  {
   "cell_type": "markdown",
   "metadata": {},
   "source": [
    "Breaking down some of the statistics behind the West Frederick Middle School MATHCOUNTS Program. In this notebook, we look at discrepancies between the warm-up rounds, target rounds, and sprint rounds over time."
   ]
  },
  {
   "cell_type": "markdown",
   "metadata": {},
   "source": [
    "## The Program"
   ]
  },
  {
   "cell_type": "markdown",
   "metadata": {},
   "source": [
    "The actual code involved in showing the statistics."
   ]
  },
  {
   "cell_type": "markdown",
   "metadata": {},
   "source": [
    "### Importing Directories"
   ]
  },
  {
   "cell_type": "markdown",
   "metadata": {},
   "source": [
    "Used to help navigate the files and parse the .csv, as well as plot the results."
   ]
  },
  {
   "cell_type": "code",
   "execution_count": 1,
   "metadata": {},
   "outputs": [],
   "source": [
    "import os\n",
    "import csv\n",
    "import matplotlib.pyplot as plt\n",
    "import matplotlib"
   ]
  },
  {
   "cell_type": "markdown",
   "metadata": {},
   "source": [
    "### Importing the Data"
   ]
  },
  {
   "cell_type": "markdown",
   "metadata": {},
   "source": [
    "This approach first parses all of the dates which are dates of warmup rounds. Then, the program adds the scores of each student to the individual corresponding rounds array, and then increments the total number of students that took each round."
   ]
  },
  {
   "cell_type": "code",
   "execution_count": 2,
   "metadata": {},
   "outputs": [],
   "source": [
    "def get_scores(round_type):\n",
    "    \n",
    "    # Containers for data\n",
    "    columns = []\n",
    "    scores = [0, 0, 0, 0, 0]\n",
    "    students = [0, 0, 0, 0, 0]\n",
    "    dates = []\n",
    "    \n",
    "    # Opening up the CSV file\n",
    "    with open('data/MATHCOUNTS Spreadsheet.csv') as csv_file:\n",
    "\n",
    "        # Parsing through CSV\n",
    "        csv_reader = csv.reader(csv_file, delimiter=',')\n",
    "\n",
    "        # To loop through the lines\n",
    "        line_count = 0\n",
    "\n",
    "        # Counters for dif\n",
    "        for row in csv_reader:\n",
    "\n",
    "            # Checks the heads of the columns\n",
    "            if line_count == 0:\n",
    "\n",
    "                # Parsing through the Different Columns\n",
    "                for i in range(0, len(row) - 1):\n",
    "\n",
    "                    # Getting the name of each column\n",
    "                    column = row[i]\n",
    "\n",
    "                    # Checking if entry in .csv is null\n",
    "                    if (row[i] != ''):\n",
    "\n",
    "                        # Checking if entry is actually a warm-up\n",
    "                        if (column[len(column) - 1] == round_type):\n",
    "\n",
    "                            # Appending the date to the list of dates\n",
    "                            dates.append(column[0:len(column) - 1])\n",
    "\n",
    "                            # Appending the corresponding column to the list of colunmns\n",
    "                            columns.append(i)\n",
    "\n",
    "                # Increment lines\n",
    "                line_count += 1\n",
    "\n",
    "            else:\n",
    "\n",
    "                # Used to parse through the scores and students arrays\n",
    "                counter = 0\n",
    "\n",
    "                # Parsing through all of the columns with warm-up dates\n",
    "                for col in columns:\n",
    "\n",
    "                    # If the entry of the column is not null\n",
    "                    if (row[col] != ''):\n",
    "\n",
    "                        # Add sums and increment each number to each specific array\n",
    "                        scores[counter] = scores[counter] + int(row[col])\n",
    "                        students[counter] = students[counter] + 1\n",
    "\n",
    "                    # Increment counter\n",
    "                    counter = counter + 1\n",
    "\n",
    "                # Increment line\n",
    "                line_count += 1\n",
    "                \n",
    "    return columns, scores, students, dates"
   ]
  },
  {
   "cell_type": "markdown",
   "metadata": {},
   "source": [
    "### Calculating the Averages"
   ]
  },
  {
   "cell_type": "markdown",
   "metadata": {},
   "source": [
    "Calculates the average for each round type by taking the total scores and dividing by the total number of students who actually took the warm-up."
   ]
  },
  {
   "cell_type": "code",
   "execution_count": 3,
   "metadata": {},
   "outputs": [],
   "source": [
    "# Used to hold the averages\n",
    "def get_averages(scores, students, point_factor):\n",
    "    \n",
    "    # Array to store averages\n",
    "    averages = []\n",
    "\n",
    "    # Parsing through the arrays of all the scores\n",
    "    for i in range(0, len(scores)):\n",
    "        if (students[i] != 0):\n",
    "            average = scores[i] * point_factor / students[i]\n",
    "            averages.append(average)\n",
    "    \n",
    "    # Return array of averages\n",
    "    return averages"
   ]
  },
  {
   "cell_type": "markdown",
   "metadata": {},
   "source": [
    "### Graphing the Improvement of a Round Type over Time"
   ]
  },
  {
   "cell_type": "markdown",
   "metadata": {},
   "source": [
    "Graphing the cumulative average over time."
   ]
  },
  {
   "cell_type": "code",
   "execution_count": 4,
   "metadata": {},
   "outputs": [],
   "source": [
    "def graph_averages(averages, round_type):\n",
    "    \n",
    "    # Plot the numbers\n",
    "    plt.plot(averages)\n",
    "    \n",
    "    # Set labels for the axes and the title\n",
    "    plt.title('Performance on ' + round_type)\n",
    "    plt.xlabel('Number of ' + round_type + ' rounds')\n",
    "    plt.ylabel('Average Score/Student')\n",
    "    \n",
    "    # Showing the Plot\n",
    "    plt.show()"
   ]
  },
  {
   "cell_type": "markdown",
   "metadata": {},
   "source": [
    "## The Results"
   ]
  },
  {
   "cell_type": "markdown",
   "metadata": {},
   "source": [
    "Showing the actual data."
   ]
  },
  {
   "cell_type": "markdown",
   "metadata": {},
   "source": [
    "### Type 1: Warm-Up"
   ]
  },
  {
   "cell_type": "markdown",
   "metadata": {},
   "source": [
    "$3$ questions, $8$ total minutes."
   ]
  },
  {
   "cell_type": "code",
   "execution_count": 5,
   "metadata": {},
   "outputs": [
    {
     "data": {
      "image/png": "[encoded data removed]",
      "text/plain": [
       "<Figure size 432x288 with 1 Axes>"
      ]
     },
     "metadata": {
      "needs_background": "light"
     },
     "output_type": "display_data"
    }
   ],
   "source": [
    "warmup_columns, warmup_scores, warmup_students, warmup_dates = get_scores(\"W\")\n",
    "warmup_averages = get_averages(warmup_scores, warmup_students, 1)\n",
    "graph_averages(warmup_averages, \"Warm-Up\")"
   ]
  },
  {
   "cell_type": "markdown",
   "metadata": {},
   "source": [
    "### Type 2: Target"
   ]
  },
  {
   "cell_type": "markdown",
   "metadata": {},
   "source": [
    "$8$ questions total, $6$ total minutes for each set of $2$ questions."
   ]
  },
  {
   "cell_type": "code",
   "execution_count": 6,
   "metadata": {},
   "outputs": [
    {
     "data": {
      "image/png": "[encoded data removed]",
      "text/plain": [
       "<Figure size 432x288 with 1 Axes>"
      ]
     },
     "metadata": {
      "needs_background": "light"
     },
     "output_type": "display_data"
    }
   ],
   "source": [
    "target_columns, target_scores, target_students, target_dates = get_scores(\"T\")\n",
    "target_averages = get_averages(target_scores, target_students, 2)\n",
    "graph_averages(target_averages, \"Target\")"
   ]
  },
  {
   "cell_type": "markdown",
   "metadata": {},
   "source": [
    "### Type 3: Sprint"
   ]
  },
  {
   "cell_type": "markdown",
   "metadata": {},
   "source": [
    "$30$ questions total, $40$ total minutes."
   ]
  },
  {
   "cell_type": "code",
   "execution_count": 7,
   "metadata": {
    "scrolled": true
   },
   "outputs": [
    {
     "data": {
      "image/png": "[encoded data removed]",
      "text/plain": [
       "<Figure size 432x288 with 1 Axes>"
      ]
     },
     "metadata": {
      "needs_background": "light"
     },
     "output_type": "display_data"
    }
   ],
   "source": [
    "target_columns, target_scores, target_students, target_dates = get_scores(\"S\")\n",
    "target_averages = get_averages(target_scores, target_students, 1)\n",
    "graph_averages(target_averages, \"Sprint\")"
   ]
  }
 ],
 "metadata": {
  "kernelspec": {
   "display_name": "Python 3",
   "language": "python",
   "name": "python3"
  },
  "language_info": {
   "codemirror_mode": {
    "name": "ipython",
    "version": 3
   },
   "file_extension": ".py",
   "mimetype": "text/x-python",
   "name": "python",
   "nbconvert_exporter": "python",
   "pygments_lexer": "ipython3",
   "version": "3.7.3"
  }
 },
 "nbformat": 4,
 "nbformat_minor": 2
}
