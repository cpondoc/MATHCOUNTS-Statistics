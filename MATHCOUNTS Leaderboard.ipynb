{
 "cells": [
  {
   "cell_type": "markdown",
   "metadata": {},
   "source": [
    "# MATHCOUNTS Leaderboard"
   ]
  },
  {
   "cell_type": "markdown",
   "metadata": {},
   "source": [
    "Calculating the top 10 cumulative scores within the West Frederick Middle School MATHCOUNTS Team. While we can calculate all of their cumulative scores, we choose to display the top 10 in no particular order."
   ]
  },
  {
   "cell_type": "markdown",
   "metadata": {},
   "source": [
    "### Importing Directories"
   ]
  },
  {
   "cell_type": "markdown",
   "metadata": {},
   "source": [
    "Includes os for navigating directories, csv for parsing input data, random to shuffle the array, and student class to create a data structure for each student."
   ]
  },
  {
   "cell_type": "code",
   "execution_count": 1,
   "metadata": {},
   "outputs": [],
   "source": [
    "import os\n",
    "import csv\n",
    "import random\n",
    "from student import *"
   ]
  },
  {
   "cell_type": "markdown",
   "metadata": {},
   "source": [
    "### Extracting Information"
   ]
  },
  {
   "cell_type": "markdown",
   "metadata": {},
   "source": [
    "The information for our MATHCOUNTS team is kept in a Google Sheet. After downloading the Google Sheet as a .csv file and saving it to our directory, we can parse the values and store values for each student."
   ]
  },
  {
   "cell_type": "code",
   "execution_count": 2,
   "metadata": {},
   "outputs": [],
   "source": [
    "\"\"\" Extracting information from the .csv file. \"\"\"\n",
    "def extract_info(spreadsheet_path):\n",
    "    \n",
    "    # Array for all students\n",
    "    students = []\n",
    "\n",
    "    # Opening up the .csv file\n",
    "    with open(spreadsheet_path) as csv_file:\n",
    "        \n",
    "        # Defining a .csv reader\n",
    "        csv_reader = csv.reader(csv_file, delimiter=',')\n",
    "        \n",
    "        # For parsing through the columns of each row\n",
    "        line_count = 0\n",
    "        \n",
    "        # Finding the column for the grades\n",
    "        grade_column = 0\n",
    "        \n",
    "        # Finding the column for the name\n",
    "        name_column = 0\n",
    "        \n",
    "        # Creating columns for the target, sprint, and warmup rounds\n",
    "        target_columns = []\n",
    "        sprint_columns = []\n",
    "        warmup_columns = []\n",
    "        \n",
    "        # Parsing through of the rows in the .csv file\n",
    "        for row in csv_reader:\n",
    "            \n",
    "            # Checking if the row is the first row\n",
    "            if line_count == 0:\n",
    "                \n",
    "                # Parsing through all of the header columns\n",
    "                for i in range(0, len(row)):\n",
    "                    \n",
    "                    # Storing the name of the header of the column\n",
    "                    column_name = row[i]\n",
    "                    \n",
    "                    # Checking if the column is null\n",
    "                    if (column_name != ''):\n",
    "                        \n",
    "                        # Checking if the column is the grade column\n",
    "                        if (column_name == \"Grade\"):\n",
    "                            grade_column = i\n",
    "                        \n",
    "                        # Checking if the column is the name column\n",
    "                        elif (column_name == \"Name\"):\n",
    "                            name_column = i\n",
    "                        \n",
    "                        # Checking if a column is a warm-up round\n",
    "                        elif (column_name[len(column_name) - 1] == \"W\"):\n",
    "                            warmup_columns.append(i)\n",
    "                        \n",
    "                        # Checking if a column is a target round\n",
    "                        elif (column_name[len(column_name) - 1] == \"T\"):\n",
    "                            target_columns.append(i) \n",
    "                        \n",
    "                        # Checking if a column is a sprint round \n",
    "                        elif (column_name[len(column_name) - 1] == \"S\"):\n",
    "                            sprint_columns.append(i)\n",
    "            \n",
    "            # For any other column....\n",
    "            else:\n",
    "                \n",
    "                # Create a new student object\n",
    "                stud = Student()\n",
    "                \n",
    "                # Setting the name of the student\n",
    "                stud.name = row[name_column]\n",
    "                \n",
    "                # Setting the grade of the student\n",
    "                stud.grade = row[grade_column]\n",
    "                \n",
    "                # Adding the scores for all of the warm-ups\n",
    "                for col in warmup_columns:\n",
    "                    if (row[col] != ''):\n",
    "                        stud.warmup_score = stud.warmup_score + int(row[col])\n",
    "                        \n",
    "                # Adding the scores for all of the target rounds\n",
    "                for col in target_columns:\n",
    "                    if (row[col] != ''):\n",
    "                        stud.target_score = stud.target_score + int(row[col])\n",
    "                        \n",
    "                # Adding the scores for all of the sprint rounds\n",
    "                for col in sprint_columns:\n",
    "                    if (row[col] != ''):\n",
    "                        stud.sprint_score = stud.sprint_score + int(row[col])\n",
    "                \n",
    "                # Appending the student to the students array\n",
    "                students.append(stud)\n",
    "                    \n",
    "            # Adding to the line count\n",
    "            line_count = line_count + 1\n",
    "            \n",
    "    # Returning the appropriate arrays\n",
    "    return students"
   ]
  },
  {
   "cell_type": "markdown",
   "metadata": {},
   "source": [
    "### Calculating Total Scores"
   ]
  },
  {
   "cell_type": "markdown",
   "metadata": {},
   "source": [
    "This function calculates the total for each student depending on the grade of the student. Each score consists of the sum of the warm-up and sprint scores + 2 times the target score."
   ]
  },
  {
   "cell_type": "code",
   "execution_count": 3,
   "metadata": {},
   "outputs": [],
   "source": [
    "\"\"\" Calculates the total score for each grade. \"\"\"\n",
    "def calculate_score(grade):\n",
    "    \n",
    "    # Parses through each student and tabulates the total score.\n",
    "    for stud in grade:\n",
    "        stud.total_score = stud.warmup_score + 2 * stud.target_score + stud.sprint_score"
   ]
  },
  {
   "cell_type": "markdown",
   "metadata": {},
   "source": [
    "### Finding Total Scores"
   ]
  },
  {
   "cell_type": "markdown",
   "metadata": {},
   "source": [
    "Finding the total scores of all the students, sorting them from least to greatest, and then taking out any superfluous numbers."
   ]
  },
  {
   "cell_type": "code",
   "execution_count": 4,
   "metadata": {},
   "outputs": [],
   "source": [
    "\"\"\" Finding the total scores for all students. \"\"\"\n",
    "def finding_totals(students):\n",
    "    \n",
    "    # Array to hold all of the total scores\n",
    "    total_scores = []\n",
    "    \n",
    "    # Calculates all of the scores for the students\n",
    "    calculate_score(students)\n",
    "    \n",
    "    # Appends all of the array into the scores\n",
    "    for stud in students:\n",
    "        total_scores.append(stud.total_score)\n",
    "        \n",
    "    # Sorts the array of the scores from lowest to highest\n",
    "    total_scores.sort()\n",
    "    \n",
    "    # Deletes a superfluous score\n",
    "    del total_scores[-1]\n",
    "    \n",
    "    # Returns all of the scores\n",
    "    return total_scores"
   ]
  },
  {
   "cell_type": "markdown",
   "metadata": {},
   "source": [
    "### Finding Names of Highest Scorers"
   ]
  },
  {
   "cell_type": "markdown",
   "metadata": {},
   "source": [
    "Taking the scores and the names of all students and finding the students with the highest scores. The names of the students are then shuffled to help create a sense of motivation."
   ]
  },
  {
   "cell_type": "code",
   "execution_count": 5,
   "metadata": {},
   "outputs": [],
   "source": [
    "\"\"\" Finding the top scorers. \"\"\"\n",
    "def find_scorers(total_scores, students):\n",
    "    \n",
    "    # Array for the names of all of the high scorers\n",
    "    names = []\n",
    "    \n",
    "    # Parses through the top 10 scores in the scores array\n",
    "    for i in range(0, 10):\n",
    "        \n",
    "        # Matches each student with their respective score\n",
    "        for stud in students:\n",
    "            if (stud.total_score == total_scores[-1]):\n",
    "                names.append(stud)\n",
    "                \n",
    "        # Deletes each top score on the list\n",
    "        del total_scores[-1]\n",
    "    \n",
    "    # Takes out any duplicate names\n",
    "    names = list(dict.fromkeys(names))\n",
    "    \n",
    "    # Shuffles the names randomly\n",
    "    random.shuffle(names)\n",
    "    \n",
    "    # Return the list of names\n",
    "    return names"
   ]
  },
  {
   "cell_type": "markdown",
   "metadata": {},
   "source": [
    "### Saving the List of Students in .csv"
   ]
  },
  {
   "cell_type": "markdown",
   "metadata": {},
   "source": [
    "Taking the list of all of the top scoring students and placing them in a .csv."
   ]
  },
  {
   "cell_type": "code",
   "execution_count": null,
   "metadata": {},
   "outputs": [],
   "source": [
    "\"\"\" Saving the data as a .csv file. \"\"\"\n",
    "def save_csv(names):\n",
    "    \n",
    "    # Creates a .csv file to save all of the information\n",
    "    with open('logs/mathcounts_leaderboard.csv', mode='w') as csv_file:\n",
    "        \n",
    "        # Defines a csv writer\n",
    "        csv_writer = csv.writer(csv_file, delimiter=',', quotechar='\"', quoting=csv.QUOTE_MINIMAL)\n",
    "\n",
    "        # Header for the csv file\n",
    "        csv_writer.writerow(['Name', 'Grade'])\n",
    "        \n",
    "        # Prints a new row for each new student as a top scorer\n",
    "        for stud in names:\n",
    "            csv_writer.writerow([stud.name, stud.grade])"
   ]
  },
  {
   "cell_type": "markdown",
   "metadata": {},
   "source": [
    "### Running all Parts of the Program"
   ]
  },
  {
   "cell_type": "markdown",
   "metadata": {},
   "source": [
    "Finishing up all of the parts of the program and running the final product."
   ]
  },
  {
   "cell_type": "code",
   "execution_count": null,
   "metadata": {},
   "outputs": [],
   "source": [
    "# Getting the names of all of the students\n",
    "students = extract_info(\"data/MATHCOUNTS Spreadsheet.csv\")\n",
    "\n",
    "# Finding the total scores of all of the students\n",
    "total_scores = finding_totals(students)\n",
    "\n",
    "# Finding the names of all of the top scorers\n",
    "names = find_scorers(total_scores, students)\n",
    "\n",
    "# Saving results to a .csv file\n",
    "save_csv(names)"
   ]
  }
 ],
 "metadata": {
  "kernelspec": {
   "display_name": "Python 3",
   "language": "python",
   "name": "python3"
  },
  "language_info": {
   "codemirror_mode": {
    "name": "ipython",
    "version": 3
   },
   "file_extension": ".py",
   "mimetype": "text/x-python",
   "name": "python",
   "nbconvert_exporter": "python",
   "pygments_lexer": "ipython3",
   "version": "3.7.3"
  }
 },
 "nbformat": 4,
 "nbformat_minor": 2
}
