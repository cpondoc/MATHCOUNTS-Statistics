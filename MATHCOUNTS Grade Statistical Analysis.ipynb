{
 "cells": [
  {
   "cell_type": "markdown",
   "metadata": {},
   "source": [
    "# MATHCOUNTS Grade Statistical Analysis"
   ]
  },
  {
   "cell_type": "markdown",
   "metadata": {},
   "source": [
    "Analyzing statistics for MATHCOUNTS based on the grades of each individual students. Utilizing the student.py class, a histogram is made for the 6th, 7th, and 8th grades based on each round type and the cumulative scores. The histograms are saved in imgs/grade #."
   ]
  },
  {
   "cell_type": "markdown",
   "metadata": {},
   "source": [
    "### Importing Directories"
   ]
  },
  {
   "cell_type": "markdown",
   "metadata": {},
   "source": [
    "Includes os for navigating directories, csv for parsing input data, matplotlib to show histograms, and student class to create a data structure for each student."
   ]
  },
  {
   "cell_type": "code",
   "execution_count": 1,
   "metadata": {},
   "outputs": [],
   "source": [
    "import os\n",
    "import csv\n",
    "import matplotlib.pyplot as plt\n",
    "import matplotlib\n",
    "from student import *"
   ]
  },
  {
   "cell_type": "markdown",
   "metadata": {},
   "source": [
    "### Extracting Information"
   ]
  },
  {
   "cell_type": "markdown",
   "metadata": {},
   "source": [
    "The information for our MATHCOUNTS team is kept in a Google Sheet. After downloading the Google Sheet as a .csv file and saving it to our directory, we can parse the values and store values for each student."
   ]
  },
  {
   "cell_type": "code",
   "execution_count": 2,
   "metadata": {},
   "outputs": [],
   "source": [
    "\"\"\" Extracting information from the .csv file. \"\"\"\n",
    "def extract_info(spreadsheet_path):\n",
    "    \n",
    "    # Arrays for all of the students corresponding to each grade.\n",
    "    sixth_grade = []\n",
    "    seventh_grade = []\n",
    "    eighth_grade = []\n",
    "\n",
    "    # Opening up the .csv file\n",
    "    with open(spreadsheet_path) as csv_file:\n",
    "        \n",
    "        # Defining a .csv reader\n",
    "        csv_reader = csv.reader(csv_file, delimiter=',')\n",
    "        \n",
    "        # For parsing through the columns of each row\n",
    "        line_count = 0\n",
    "        \n",
    "        # Finding the column for the grades\n",
    "        grade_column = 0\n",
    "        \n",
    "        # Finding the column for the name\n",
    "        name_column = 0\n",
    "        \n",
    "        # Creating columns for the target, sprint, and warmup rounds\n",
    "        target_columns = []\n",
    "        sprint_columns = []\n",
    "        warmup_columns = []\n",
    "        \n",
    "        # Parsing through of the rows in the .csv file\n",
    "        for row in csv_reader:\n",
    "            \n",
    "            # Checking if the row is the first row\n",
    "            if line_count == 0:\n",
    "                \n",
    "                # Parsing through all of the header columns\n",
    "                for i in range(0, len(row)):\n",
    "                    \n",
    "                    # Storing the name of the header of the column\n",
    "                    column_name = row[i]\n",
    "                    \n",
    "                    # Checking if the column is null\n",
    "                    if (column_name != ''):\n",
    "                        \n",
    "                        # Checking if the column is the grade column\n",
    "                        if (column_name == \"Grade\"):\n",
    "                            grade_column = i\n",
    "                        \n",
    "                        # Checking if the column is the name column\n",
    "                        elif (column_name == \"Name\"):\n",
    "                            name_column = i\n",
    "                        \n",
    "                        # Checking if a column is a warm-up round\n",
    "                        elif (column_name[len(column_name) - 1] == \"W\"):\n",
    "                            warmup_columns.append(i)\n",
    "                        \n",
    "                        # Checking if a column is a target round\n",
    "                        elif (column_name[len(column_name) - 1] == \"T\"):\n",
    "                            target_columns.append(i) \n",
    "                        \n",
    "                        # Checking if a column is a sprint round \n",
    "                        elif (column_name[len(column_name) - 1] == \"S\"):\n",
    "                            sprint_columns.append(i)\n",
    "            \n",
    "            # For any other column....\n",
    "            else:\n",
    "                \n",
    "                # Create a new student object\n",
    "                stud = Student()\n",
    "                \n",
    "                # Setting the name of the student\n",
    "                stud.name = row[name_column]\n",
    "                \n",
    "                # Setting the grade of the student\n",
    "                stud.grade = row[grade_column]\n",
    "                \n",
    "                # Adding the scores for all of the warm-ups\n",
    "                for col in warmup_columns:\n",
    "                    if (row[col] != ''):\n",
    "                        stud.warmup_score = stud.warmup_score + int(row[col])\n",
    "                        \n",
    "                # Adding the scores for all of the target rounds\n",
    "                for col in target_columns:\n",
    "                    if (row[col] != ''):\n",
    "                        stud.target_score = stud.target_score + int(row[col])\n",
    "                        \n",
    "                # Adding the scores for all of the sprint rounds\n",
    "                for col in sprint_columns:\n",
    "                    if (row[col] != ''):\n",
    "                        stud.sprint_score = stud.sprint_score + int(row[col])\n",
    "                        \n",
    "                # Checking which grade the student is in\n",
    "                if stud.grade == \"7\":\n",
    "                    seventh_grade.append(stud)\n",
    "                elif stud.grade == \"6\":\n",
    "                    sixth_grade.append(stud)\n",
    "                elif stud.grade == \"8\":\n",
    "                    eighth_grade.append(stud)\n",
    "                    \n",
    "            # Adding to the line count\n",
    "            line_count = line_count + 1\n",
    "            \n",
    "    # Returning the appropriate arrays\n",
    "    return sixth_grade, seventh_grade, eighth_grade"
   ]
  },
  {
   "cell_type": "markdown",
   "metadata": {},
   "source": [
    "### Calculating Total Scores for Each Student"
   ]
  },
  {
   "cell_type": "markdown",
   "metadata": {},
   "source": [
    "This function calculates the total for each student depending on the grade of the student. Each score consists of the sum of the warm-up and sprint scores + 2 times the target score."
   ]
  },
  {
   "cell_type": "code",
   "execution_count": 3,
   "metadata": {},
   "outputs": [],
   "source": [
    "\"\"\" Calculates the total score for each grade. \"\"\"\n",
    "def calculate_score(grade):\n",
    "    \n",
    "    # Parses through each student and tabulates the total score.\n",
    "    for stud in grade:\n",
    "        stud.total_score = stud.warmup_score + 2 * stud.target_score + stud.sprint_score"
   ]
  },
  {
   "cell_type": "markdown",
   "metadata": {},
   "source": [
    "### Creating Histogram of Score Distributions"
   ]
  },
  {
   "cell_type": "markdown",
   "metadata": {},
   "source": [
    "This function creates a histogram of for each grade corresponding to each round type and score."
   ]
  },
  {
   "cell_type": "code",
   "execution_count": 4,
   "metadata": {},
   "outputs": [],
   "source": [
    "\"\"\" Creates a histogram for all of the total scores. \"\"\"\n",
    "def create_histogram(students, round_type):\n",
    "    \n",
    "    # Creates an array of the scores.\n",
    "    scores = []\n",
    "    \n",
    "    # Checks the grade of the students.\n",
    "    grade = students[0].grade\n",
    "    \n",
    "    # Parses through the scores of the students.\n",
    "    for stud in students:\n",
    "        \n",
    "        # Checking each round type and showing the appropriate scores\n",
    "        if (round_type == \"Warm-Up\"):\n",
    "            scores.append(stud.warmup_score)\n",
    "            \n",
    "        elif (round_type == \"Target\"):\n",
    "            scores.append(stud.target_score)\n",
    "            \n",
    "        elif (round_type == \"Sprint\"):\n",
    "            scores.append(stud.sprint_score)\n",
    "            \n",
    "        elif (round_type == \"Total\"):\n",
    "            scores.append(stud.total_score)\n",
    "        \n",
    "    # Setting the title and axes for the histogram.\n",
    "    plt.suptitle(round_type + \" Scores Distribution\", weight=\"bold\")\n",
    "    plt.title(grade + \"th Students\")\n",
    "    plt.xlabel(\"Total Score\")\n",
    "    plt.ylabel('Frequency')\n",
    "    \n",
    "    # Displaying the histogram\n",
    "    plt.hist(scores, rwidth=0.8, color='g')\n",
    "    \n",
    "    # Saving the histogram\n",
    "    plt.savefig('imgs/' + grade + '/' + round_type + '.png')\n",
    "    \n",
    "    # Clearing the histogram\n",
    "    plt.clf()"
   ]
  },
  {
   "cell_type": "markdown",
   "metadata": {},
   "source": [
    "### Running the Program"
   ]
  },
  {
   "cell_type": "markdown",
   "metadata": {},
   "source": [
    "Extracting the data, calculating total scores, and then generating the histograms."
   ]
  },
  {
   "cell_type": "code",
   "execution_count": 5,
   "metadata": {},
   "outputs": [
    {
     "data": {
      "text/plain": [
       "<Figure size 432x288 with 0 Axes>"
      ]
     },
     "metadata": {},
     "output_type": "display_data"
    }
   ],
   "source": [
    "# Gathering all of the data\n",
    "sixth_grade, seventh_grade, eighth_grade = extract_info(\"data/MATHCOUNTS Spreadsheet.csv\")\n",
    "\n",
    "# Arrays for the grades and round types\n",
    "grades = [sixth_grade, seventh_grade, eighth_grade]\n",
    "round_types = [\"Warm-Up\", \"Total\", \"Sprint\", \"Target\"]\n",
    "\n",
    "# For each grade in all of the grades\n",
    "for grade in grades:\n",
    "    \n",
    "    # Calculate the total scores of all of the grades\n",
    "    calculate_score(grade)\n",
    "    \n",
    "    # For each round type\n",
    "    for round_type in round_types:\n",
    "        \n",
    "        # Create a histogram for round type and grade\n",
    "        create_histogram(grade, round_type)"
   ]
  },
  {
   "cell_type": "code",
   "execution_count": null,
   "metadata": {},
   "outputs": [],
   "source": []
  }
 ],
 "metadata": {
  "kernelspec": {
   "display_name": "Python 3",
   "language": "python",
   "name": "python3"
  },
  "language_info": {
   "codemirror_mode": {
    "name": "ipython",
    "version": 3
   },
   "file_extension": ".py",
   "mimetype": "text/x-python",
   "name": "python",
   "nbconvert_exporter": "python",
   "pygments_lexer": "ipython3",
   "version": "3.7.3"
  }
 },
 "nbformat": 4,
 "nbformat_minor": 2
}
